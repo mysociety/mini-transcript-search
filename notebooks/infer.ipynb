{
 "cells": [
  {
   "cell_type": "code",
   "execution_count": 3,
   "metadata": {},
   "outputs": [],
   "source": [
    "from mini_transcript_search import ModelHandler\n",
    "import datetime\n",
    "from pathlib import Path\n",
    "\n",
    "handler = ModelHandler(use_local_model=False, override_stored=True)\n",
    "\n",
    "search_query = \"register of members financial interests\"\n",
    "\n",
    "yesterday = datetime.date.today() - datetime.timedelta(days=1)\n",
    "\n",
    "# the last week starting yesterday\n",
    "last_week = ModelHandler.DateRange(start_date=yesterday, end_date=yesterday)\n",
    "results = handler.query(\n",
    "    search_query,\n",
    "    threshold=0.4,\n",
    "    n=10,\n",
    "    date_range=last_week,\n",
    "    chamber=ModelHandler.Chamber.COMMONS,\n",
    "    transcript_type=ModelHandler.TranscriptType.DEBATES,\n",
    ")\n",
    "\n",
    "# dump csv\n",
    "results.df().to_csv(Path(\"last_week.csv\"), index=False)\n",
    "\n",
    "# dump json\n",
    "results.to_path(Path(\"last_week.json\"))"
   ]
  }
 ],
 "metadata": {
  "language_info": {
   "name": "python"
  }
 },
 "nbformat": 4,
 "nbformat_minor": 2
}
